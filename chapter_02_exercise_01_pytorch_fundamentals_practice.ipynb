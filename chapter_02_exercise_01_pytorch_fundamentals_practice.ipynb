{
 "cells": [
  {
   "cell_type": "markdown",
   "metadata": {},
   "source": [
    "GitHub Copilot: Sure, here's a sample introduction and requirements for the exercise notebook:\n",
    "\n",
    "---\n",
    "\n",
    "# PyTorch Fundamentals Practice\n",
    "\n",
    "Welcome to the PyTorch Fundamentals practice notebook. This notebook is designed to help you strengthen your understanding of the basic concepts of PyTorch, a powerful open-source machine learning library for Python.\n",
    "\n",
    "## Requirements\n",
    "\n",
    "Before starting the exercises, make sure you have a good understanding of the following:\n",
    "\n",
    "- Basic Python programming\n",
    "- Basic understanding of Tensors\n",
    "- Familiarity with NumPy is helpful as PyTorch is similar to NumPy in many ways\n",
    "- Basic concepts of machine learning (not mandatory, but it will make understanding PyTorch easier)\n",
    "\n",
    "## Instructions\n",
    "\n",
    "- Each exercise consists of a question and a corresponding code cell for your answer.\n",
    "- Write your solution in the provided code cell.\n",
    "- After writing your solution, run the evaluation code to check your answer. The evaluation code cell is provided after each exercise.\n",
    "- Don't modify the evaluation code. Doing so can lead to incorrect results.\n",
    "\n",
    "Good luck and happy coding!\n",
    "\n",
    "---"
   ]
  },
  {
   "cell_type": "code",
   "execution_count": null,
   "metadata": {},
   "outputs": [],
   "source": [
    "import torch\n",
    "from torchvision import io\n",
    "import matplotlib.pyplot as plt"
   ]
  },
  {
   "cell_type": "markdown",
   "metadata": {},
   "source": [
    "### Question 1\n",
    "\n",
    "Create a tensor of size (10, 10) with random numbers, find its maximum value and its index on axis 1."
   ]
  },
  {
   "cell_type": "code",
   "execution_count": null,
   "metadata": {},
   "outputs": [],
   "source": [
    "# TODO: student code goes here\n",
    "tensor =\n",
    "max_val, max_idx ="
   ]
  },
  {
   "cell_type": "code",
   "execution_count": null,
   "metadata": {},
   "outputs": [],
   "source": [
    "# Evaluation code, do not modify\n",
    "assert tensor.size() == (10, 10)\n",
    "\n",
    "# Make sure the max value is correct by looping over the tensor\n",
    "for i in range(10):\n",
    "    assert max_val[i] == torch.max(tensor[i])"
   ]
  },
  {
   "cell_type": "markdown",
   "metadata": {},
   "source": [
    "### Question 2:\n",
    "\n",
    "Create two tensors of size (3, 3) with random numbers, perform matrix multiplication."
   ]
  },
  {
   "cell_type": "code",
   "execution_count": null,
   "metadata": {},
   "outputs": [],
   "source": [
    "# TODO: student code goes here\n",
    "tensor1 =\n",
    "tensor2 =\n",
    "result ="
   ]
  },
  {
   "cell_type": "code",
   "execution_count": null,
   "metadata": {},
   "outputs": [],
   "source": [
    "assert tensor1.size() == (3, 3)\n",
    "assert tensor2.size() == (3, 3)\n",
    "\n",
    "\n",
    "# Manually compute the result and compare\n",
    "for i in range(result.size(0)):\n",
    "    for j in range(result.size(1)):\n",
    "        assert result[i, j] == tensor1[i, :].dot(tensor2[:, j])"
   ]
  },
  {
   "cell_type": "markdown",
   "metadata": {},
   "source": [
    "### Question 3:\n",
    "\n",
    "Create a tensor of size (5, 5) with random numbers, normalize it by dimension 0."
   ]
  },
  {
   "cell_type": "code",
   "execution_count": null,
   "metadata": {},
   "outputs": [],
   "source": [
    "# TODO: student code goes here\n",
    "tensor =\n",
    "normalized_tensor ="
   ]
  },
  {
   "cell_type": "code",
   "execution_count": null,
   "metadata": {},
   "outputs": [],
   "source": [
    "assert tensor.size() == (5, 5)\n",
    "\n",
    "# Manually compute the result and compare\n",
    "for i in range(tensor.size(0)):\n",
    "    for j in range(tensor.size(1)):\n",
    "        assert torch.isclose(normalized_tensor[i, j], (tensor[i, j] - tensor[:, j].mean()) / tensor[:, j].std())"
   ]
  },
  {
   "cell_type": "markdown",
   "metadata": {},
   "source": [
    "### Question 4:\n",
    "\n",
    "Create a tensor of size (4, 4) with values ranging from 0 to 15, extract the upper triangular part."
   ]
  },
  {
   "cell_type": "code",
   "execution_count": null,
   "metadata": {},
   "outputs": [],
   "source": [
    "# TODO: student code goes here\n",
    "tensor =\n",
    "upper_triangular ="
   ]
  },
  {
   "cell_type": "code",
   "execution_count": null,
   "metadata": {},
   "outputs": [],
   "source": [
    "assert tensor.size() == (4, 4)\n",
    "\n",
    "# Manually assert value of each element of the upper triangular\n",
    "for i in range(tensor.size(0)):\n",
    "    for j in range(tensor.size(1)):\n",
    "        assert upper_triangular[i, j] == tensor[i, j] if i <= j else upper_triangular[i, j] == 0"
   ]
  },
  {
   "cell_type": "markdown",
   "metadata": {},
   "source": [
    "### Question 5:\n",
    "\n",
    "Create a tensor of size (5, 5) with random numbers, perform singular value decomposition."
   ]
  },
  {
   "cell_type": "code",
   "execution_count": null,
   "metadata": {},
   "outputs": [],
   "source": [
    "# TODO: student code goes here\n",
    "tensor =\n",
    "U, S, V ="
   ]
  },
  {
   "cell_type": "code",
   "execution_count": null,
   "metadata": {},
   "outputs": [],
   "source": [
    "assert tensor.size() == (5, 5)\n",
    "assert torch.allclose(U @ torch.diag(S) @ V.t(), tensor, atol=1e-6)"
   ]
  },
  {
   "cell_type": "markdown",
   "metadata": {},
   "source": [
    "### Question 6:\n",
    "\n",
    "Create a tensor of size (4, 4) with random numbers, find its inverse."
   ]
  },
  {
   "cell_type": "code",
   "execution_count": null,
   "metadata": {},
   "outputs": [],
   "source": [
    "# TODO: student code goes here\n",
    "tensor =\n",
    "inverse ="
   ]
  },
  {
   "cell_type": "code",
   "execution_count": null,
   "metadata": {},
   "outputs": [],
   "source": [
    "assert tensor.size() == (4, 4)\n",
    "\n",
    "# Calculate the inverse using linalg.inv and compare\n",
    "import numpy as np\n",
    "assert torch.allclose(inverse, torch.from_numpy(np.linalg.inv(tensor.numpy())), atol=1e-6)"
   ]
  },
  {
   "cell_type": "markdown",
   "metadata": {},
   "source": [
    "### Question 7:\n",
    "\n",
    "Create a tensor of size (3, 3) with random numbers, find its determinant."
   ]
  },
  {
   "cell_type": "code",
   "execution_count": null,
   "metadata": {},
   "outputs": [],
   "source": [
    "# TODO: student code goes here\n",
    "tensor =\n",
    "determinant ="
   ]
  },
  {
   "cell_type": "code",
   "execution_count": null,
   "metadata": {},
   "outputs": [],
   "source": [
    "assert tensor.size() == (3, 3)\n",
    "\n",
    "# Calculate the determinant using linalg.det and compare\n",
    "import numpy as np\n",
    "linalg_det = np.linalg.det(tensor.numpy())\n",
    "assert torch.isclose(determinant, torch.from_numpy(np.array(linalg_det)))"
   ]
  },
  {
   "cell_type": "markdown",
   "metadata": {},
   "source": [
    "### Question 8:\n",
    "\n",
    "Create a tensor of size (5, 5) with random numbers, find its rank."
   ]
  },
  {
   "cell_type": "code",
   "execution_count": null,
   "metadata": {},
   "outputs": [],
   "source": [
    "# TODO: student code goes here\n",
    "tensor =\n",
    "rank ="
   ]
  },
  {
   "cell_type": "code",
   "execution_count": null,
   "metadata": {},
   "outputs": [],
   "source": [
    "assert tensor.size() == (5, 5)\n",
    "\n",
    "# Calculate the rank using linalg.matrix_rank and compare\n",
    "import numpy as np\n",
    "linalg_rank = np.linalg.matrix_rank(tensor.numpy())\n",
    "assert rank == torch.from_numpy(np.array(linalg_rank))"
   ]
  },
  {
   "cell_type": "markdown",
   "metadata": {},
   "source": [
    "### Question 9:\n",
    "\n",
    "Read an image using PyTorch's `io.read_image` function. The image path is './image.png'. Ensure the image is in the format C x H x W, where C is the number of channels, H is the height, and W is the width.\n",
    "\n",
    "Can you use matplotlib to display the image?"
   ]
  },
  {
   "cell_type": "code",
   "execution_count": null,
   "metadata": {},
   "outputs": [],
   "source": [
    "# TODO: student code goes here\n",
    "image =\n",
    "print(image.shape)"
   ]
  },
  {
   "cell_type": "code",
   "execution_count": null,
   "metadata": {},
   "outputs": [],
   "source": [
    "# Render the image\n",
    "plt.imshow(image)"
   ]
  },
  {
   "cell_type": "code",
   "execution_count": null,
   "metadata": {},
   "outputs": [],
   "source": [
    "assert len(image.shape) == 3\n",
    "assert image.shape[0] == 3\n",
    "assert image.shape[1] == 512\n",
    "assert image.shape[2] == 512"
   ]
  },
  {
   "cell_type": "markdown",
   "metadata": {},
   "source": [
    "### Question 10:\n",
    "\n",
    "Switch the shape of a tensor of size (num_channels, height, width) to (height, width, num_channels), so that it can be displayed using matplotlib."
   ]
  },
  {
   "cell_type": "code",
   "execution_count": null,
   "metadata": {},
   "outputs": [],
   "source": [
    "# TODO: student code goes here\n",
    "switched_image ="
   ]
  },
  {
   "cell_type": "code",
   "execution_count": null,
   "metadata": {},
   "outputs": [],
   "source": [
    "# Render the image\n",
    "plt.imshow(switched_image)"
   ]
  },
  {
   "cell_type": "code",
   "execution_count": 101,
   "metadata": {},
   "outputs": [],
   "source": [
    "assert len(switched_image.shape) == 3\n",
    "assert switched_image.shape[0] == 512\n",
    "assert switched_image.shape[1] == 512\n",
    "assert switched_image.shape[2] == 3"
   ]
  }
 ],
 "metadata": {
  "kernelspec": {
   "display_name": "packt_nlp_natural_language_processing_in_python_for_beginners",
   "language": "python",
   "name": "python3"
  },
  "language_info": {
   "codemirror_mode": {
    "name": "ipython",
    "version": 3
   },
   "file_extension": ".py",
   "mimetype": "text/x-python",
   "name": "python",
   "nbconvert_exporter": "python",
   "pygments_lexer": "ipython3",
   "version": "3.10.13"
  }
 },
 "nbformat": 4,
 "nbformat_minor": 2
}
